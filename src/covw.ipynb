{
 "cells": [
  {
   "cell_type": "markdown",
   "metadata": {},
   "source": [
    "### Weighted covariance matrix"
   ]
  },
  {
   "cell_type": "markdown",
   "metadata": {},
   "source": [
    "Calculate a weighted centered image $(y)_{ij}$ from image $(x)_{ij},\\ \\ i=1\\dots N,\\ \\ j=1\\dots n$, with weights $w_j,\\ \\ j=1\\dots n$, where $N$ is the number of bands and $n$ is the number of pixels:\n",
    "\n",
    "$$\n",
    "\\bar x_i = {1 \\over \\sum_{j=1}^n w_j} \\sum_{j=1}^n w_j x_{ij},\\quad i = 1\\dots N\n",
    "$$\n",
    "$$\n",
    "y_{ij} = x_{ij}-\\bar x_i,\\quad i = 1\\dots N,\\ j=1\\dots n\n",
    "$$"
   ]
  },
  {
   "cell_type": "markdown",
   "metadata": {},
   "source": [
    "Calculate the weighted covariance matrix $(c)_{k\\ell},\\ \\ k,\\ell = 1\\dots N$, of a weighted centered image $(y)_{ij}$:\n",
    "\n",
    "$$\n",
    "c_{k,\\ell} = {1\\over \\sum_{i=1}^n w_i}\\sum_{j=1}^n w_j y_{kj}y_{\\ell j} = {1\\over \\sum_{i=1}^n w_i}\\sum_{j=1}^n \\sqrt{w_j} y_{kj}\\sqrt{w_j}y_{\\ell j}\n",
    "$$"
   ]
  },
  {
   "cell_type": "code",
   "execution_count": 1,
   "metadata": {
    "collapsed": true
   },
   "outputs": [],
   "source": [
    "import ee\n",
    "ee.Initialize()"
   ]
  },
  {
   "cell_type": "code",
   "execution_count": 2,
   "metadata": {
    "collapsed": true
   },
   "outputs": [],
   "source": [
    "def covarw(image, weights, scale=30, maxPixels=1e9):\n",
    "    '''Return the weighted centered image and its weighted covariance matrix'''  \n",
    "    bandNames = image.bandNames()\n",
    "    N = bandNames.length()\n",
    "    weightsImage = image.multiply(ee.Image.constant(0)).add(weights)\n",
    "    means = image.addBands(weightsImage) \\\n",
    "                 .reduceRegion(ee.Reducer.mean().repeat(N).splitWeights(),scale=scale,maxPixels=maxPixels) \\\n",
    "                 .toArray() \\\n",
    "                 .project([1])\n",
    "    centered = image.toArray().subtract(means) \n",
    "    B1 = centered.bandNames().get(0)       \n",
    "    b1 = weights.bandNames().get(0)     \n",
    "    nPixels = ee.Number(centered.reduceRegion(ee.Reducer.count(), scale=scale, maxPixels=maxPixels).get(B1)) \n",
    "    sumWeights = ee.Number(weights.reduceRegion(ee.Reducer.sum(), scale=scale, maxPixels=maxPixels).get(b1))\n",
    "    covw = centered.multiply(weights.sqrt()) \\\n",
    "                   .toArray() \\\n",
    "                   .reduceRegion(ee.Reducer.centeredCovariance(), scale=scale, maxPixels=maxPixels) \\\n",
    "                   .get('array')\n",
    "    covw = ee.Array(covw).multiply(nPixels).divide(sumWeights)\n",
    "    return (centered.arrayFlatten([bandNames]), covw)"
   ]
  },
  {
   "cell_type": "markdown",
   "metadata": {},
   "source": [
    "#### Test"
   ]
  },
  {
   "cell_type": "code",
   "execution_count": 4,
   "metadata": {
    "collapsed": false
   },
   "outputs": [
    {
     "name": "stdout",
     "output_type": "stream",
     "text": [
      "number of pixels\n",
      "313154\n",
      "unweighted covariance matrix, covarw()\n",
      "[[ 259.33425543  177.14129922  244.4465118   210.37476321]\n",
      " [ 177.14129922  123.76729454  171.4784849   147.64151241]\n",
      " [ 244.4465118   171.4784849   240.47015783  207.079793  ]\n",
      " [ 210.37476321  147.64151241  207.079793    183.98393965]]\n",
      "unweighted covariance matrix, ee.Reducer.covariance()\n",
      "[[ 257.38355539  175.75911584  242.52176427  208.76011747]\n",
      " [ 175.75911584  122.77630875  170.09445611  146.4820375 ]\n",
      " [ 242.52176427  170.09445611  238.52687444  205.45357013]\n",
      " [ 208.76011747  146.4820375   205.45357013  182.60511107]]\n",
      "weighted covariance matrix, covarw()\n",
      "[[ 325.10108124  224.04869256  309.52084381  263.18813647]\n",
      " [ 224.04869256  157.41659351  218.24858615  185.65555082]\n",
      " [ 309.52084381  218.24858615  305.57113229  260.00265357]\n",
      " [ 263.18813647  185.65555082  260.00265357  226.90640376]]\n"
     ]
    }
   ],
   "source": [
    "import numpy as np\n",
    "\n",
    "minlon = -116.117\n",
    "minlat = 36.964\n",
    "maxlon = -115.920\n",
    "maxlat = 37.109\n",
    "rect = ee.Geometry.Rectangle(minlon,minlat,maxlon,maxlat)\n",
    "image = ee.Image('LT5_L1T/LT50400341985097XXX04') \\\n",
    "                  .select('B1','B2','B3','B4') \\\n",
    "                  .clip(rect) \n",
    "        \n",
    "npixels = ee.Number(image.select(0).reduceRegion(ee.Reducer.count(), scale=30, maxPixels=1e9).get('B1'))         \n",
    "print 'number of pixels' \n",
    "print npixels.getInfo()\n",
    "\n",
    "# equal weights\n",
    "weights = image.select(0).multiply(0.0).add(1.0)\n",
    "_, covw = covarw(image,weights)\n",
    "print 'unweighted covariance matrix, covarw()'\n",
    "print np.array(ee.Array(covw).getInfo())\n",
    "\n",
    "# should be same as ordinary covariance\n",
    "cov = image.toArray().reduceRegion(ee.Reducer.covariance(),scale=30,maxPixels=1e9)\n",
    "print 'unweighted covariance matrix, ee.Reducer.covariance()'\n",
    "print np.array(cov.get('array').getInfo())\n",
    "\n",
    "# different weights (just the pixel values themselves)\n",
    "weights = image.float().select(0)\n",
    "_, covw = covarw(image,weights)\n",
    "print 'weighted covariance matrix, covarw()'\n",
    "print np.array(ee.Array(covw).getInfo())"
   ]
  },
  {
   "cell_type": "markdown",
   "metadata": {},
   "source": [
    "#### Export images for validation"
   ]
  },
  {
   "cell_type": "code",
   "execution_count": 17,
   "metadata": {
    "collapsed": true
   },
   "outputs": [],
   "source": [
    "gdexport = ee.batch.Export.image.toDrive(image,\n",
    "                                  description='driveExportTask', \n",
    "                                  folder = 'EarthEngineImages',\n",
    "                                  fileNamePrefix='image',scale=30,maxPixels=1e9)\n",
    "gdexport.start() \n",
    "gdexport = ee.batch.Export.image.toDrive(weights,\n",
    "                                  description='driveExportTask', \n",
    "                                  folder = 'EarthEngineImages',\n",
    "                                  fileNamePrefix='weights',scale=30,maxPixels=1e9)\n",
    "gdexport.start() "
   ]
  },
  {
   "cell_type": "markdown",
   "metadata": {
    "collapsed": true
   },
   "source": [
    "#### Validation"
   ]
  },
  {
   "cell_type": "code",
   "execution_count": 5,
   "metadata": {
    "collapsed": false
   },
   "outputs": [
    {
     "name": "stdout",
     "output_type": "stream",
     "text": [
      "number of pixels\n",
      "314181\n",
      "unweighted covariance matrix\n",
      "[[ 259.48222731  177.33938745  244.75679969  210.58590453]\n",
      " [ 177.33938745  123.96737257  171.78167129  147.86155463]\n",
      " [ 244.75679969  171.78167129  240.91928552  207.40979005]\n",
      " [ 210.58590453  147.86155463  207.40979005  184.20011058]]\n",
      "weighted covariance matrix\n",
      "[[ 325.33716977  224.35560692  310.00655909  263.53623923]\n",
      " [ 224.35560692  157.72498044  218.71960511  186.00813348]\n",
      " [ 310.00655909  218.71960511  306.27505544  260.53401914]\n",
      " [ 263.53623923  186.00813348  260.53401914  227.27566257]]\n"
     ]
    }
   ],
   "source": [
    "import gdal,sys\n",
    "from osgeo.gdalconst import GA_ReadOnly\n",
    "\n",
    "inDataseti = gdal.Open('image.tif',GA_ReadOnly)                         \n",
    "cols = inDataseti.RasterXSize\n",
    "rows = inDataseti.RasterYSize    \n",
    "bands = inDataseti.RasterCount\n",
    "\n",
    "tmp = inDataseti.GetRasterBand(1).ReadAsArray(0,0,cols,rows).astype(float).ravel()\n",
    "idx = np.where(tmp>0)\n",
    "npixels = np.size(idx)\n",
    "\n",
    "print 'number of pixels'\n",
    "print npixels\n",
    "\n",
    "print 'unweighted covariance matrix'\n",
    "G = np.zeros((npixels,bands))\n",
    "for b in range(bands):\n",
    "    band = inDataseti.GetRasterBand(b+1)\n",
    "    tmp = band.ReadAsArray(0,0,cols,rows).astype(float).ravel()\n",
    "    tmp = tmp[idx]\n",
    "    G[:,b] = tmp \n",
    "C = np.cov(G,rowvar=0)\n",
    "print C\n",
    "\n",
    "inDatasetw = gdal.Open('weights.tif',GA_ReadOnly)\n",
    "cols = inDatasetw.RasterXSize\n",
    "rows = inDatasetw.RasterYSize  \n",
    "weights = inDatasetw.GetRasterBand(1).ReadAsArray(0,0,cols,rows).astype(float).ravel()\n",
    "weights = weights[idx]\n",
    "\n",
    "print 'weighted covariance matrix'\n",
    "C = np.cov(G,rowvar=0,aweights=weights)\n",
    "print C"
   ]
  },
  {
   "cell_type": "code",
   "execution_count": null,
   "metadata": {
    "collapsed": true
   },
   "outputs": [],
   "source": []
  }
 ],
 "metadata": {
  "kernelspec": {
   "display_name": "Python [Root]",
   "language": "python",
   "name": "Python [Root]"
  },
  "language_info": {
   "codemirror_mode": {
    "name": "ipython",
    "version": 2
   },
   "file_extension": ".py",
   "mimetype": "text/x-python",
   "name": "python",
   "nbconvert_exporter": "python",
   "pygments_lexer": "ipython2",
   "version": "2.7.12"
  }
 },
 "nbformat": 4,
 "nbformat_minor": 0
}
