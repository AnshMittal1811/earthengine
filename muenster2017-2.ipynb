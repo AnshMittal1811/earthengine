{
 "cells": [
  {
   "cell_type": "markdown",
   "metadata": {
    "nbpresent": {
     "id": "61e34aac-853f-4bb7-aa58-56ac8cd5591f"
    }
   },
   "source": [
    "<center>\n",
    "<h1> Statistical Algorithms for Change Detection in Optical and SAR Imagery: </h1>\n",
    "\n",
    "<h1> Implementations in Python and on the Google Earth Engine </h1>\n",
    "\n",
    "<h2> Mort Canty, Jülich Germany </h2>\n",
    "<h2> Allan A. Nielsen, DTU Denmark   </h2> \n",
    "<h2> </h2>\n",
    "\n",
    "<h2> <em>GI Forum, Institute for Geoinformatics  (ifgi),  </em></h2>\n",
    "<h2> <em>University of Münster, June 13, 2017 </em></h2>\n",
    "</center>\n"
   ]
  },
  {
   "cell_type": "markdown",
   "metadata": {
    "nbpresent": {
     "id": "3a42c88d-ab64-4ac1-92d4-da4a4b3620c4"
    }
   },
   "source": [
    "## Polarimetric SAR Imagery\n",
    "\n",
    "<a href = \"http://www2.imm.dtu.dk/pubdb/views/publication_details.php?id=6825\"> \n",
    "\tK. Conradsen et al. (2016). Determining the points of\n",
    "\tchange in time series of polarimetric SAR data. IEEE TGRS 54 (5) 3007-3024.</a>\n",
    "\n",
    "### Scattering matrix\n",
    "\n",
    "$$\n",
    "\\pmatrix{E_h^b \\cr E_v^b}\n",
    "=\\pmatrix{S_{hh} & S_{hv}\\cr S_{vh} & S_{vv}}\\pmatrix{E_h^i \\cr E_v^i}.\n",
    "$$\n",
    "\n",
    "### Vector representation of an SLC (single-look complex) image\n",
    "\n",
    "$$\n",
    "s = \\pmatrix{S_{hh}\\cr \\sqrt{2}S_{hv}\\cr S_{vv}},\n",
    "$$\n",
    "\n",
    "### Span image (inner product)\n",
    "\n",
    "$$\n",
    "{\\rm span} = s^\\top s = |S_{hh}|^2 + 2|S_{hv}|^2 + |S_{vv}|^2.\n",
    "$$\n",
    "\n",
    "### Polarimetric matrix representation (outer product)\n",
    "\n",
    "$$\n",
    "C = s s^\\top = \\pmatrix{ |S_{hh}|^2 & \\sqrt{2}S_{hh}S_{hv}^* & S_{hh}S_{vv}^* \\cr\n",
    "                                     \\sqrt{2}S_{hv}S_{hh}^* & 2|S_{hv}|^2 & \\sqrt{2}S_{hv}S_{vv}^* \\cr\n",
    "                                     S_{vv}S_{hh}^* & \\sqrt{2}S_{vv}S_{hv}^* & |S_{vv}|^2 }.\n",
    "$$\n"
   ]
  },
  {
   "cell_type": "markdown",
   "metadata": {
    "nbpresent": {
     "id": "724ab1b2-c488-4413-94d4-274773d0cb59"
    }
   },
   "source": [
    "### Multi-look image\n",
    "#### quad pol\n",
    "$$\n",
    "\\bar{C}  ={1\\over n}\\sum_{\\nu=1}^n  s(\\nu) s(\\nu)^\\top = \\langle  s s^\\top \\rangle\n",
    " = \\pmatrix{ \\langle |S_{hh}|^2\\rangle & \\langle\\sqrt{2}S_{hh}S_{hv}^*\\rangle & \\langle S_{hh}S_{vv}^*\\rangle \\cr\n",
    "\\langle\\sqrt{2} S_{hv}S_{hh}^*\\rangle & \\langle 2|S_{hv}|^2\\rangle & \\langle\\sqrt{2}S_{hv}S_{vv}^*\\rangle \\cr\n",
    "\\langle S_{vv}S_{hh}^*\\rangle & \\langle\\sqrt{2}S_{vv}S_{hv}^*\\rangle & \\langle |S_{vv}|^2\\rangle }\n",
    "$$\n",
    "#### dual pol\n",
    "$$\n",
    "\\bar{C} = \\pmatrix{ \\langle |S_{hh}|^2\\rangle & \\langle S_{hh}S_{hv}^*\\rangle \\cr\n",
    "\\langle S_{hv}S_{hh}^*\\rangle & \\langle |S_{hv}|^2\\rangle }\n",
    "$$\n",
    "#### single pol\n",
    "$$\n",
    "\\bar{C} = \\langle |S_{hh}|^2\\rangle \\quad \n",
    "$$\n",
    "\n"
   ]
  },
  {
   "cell_type": "markdown",
   "metadata": {
    "collapsed": true,
    "nbpresent": {
     "id": "2ffd18a6-9b9c-43be-8b5c-2010243b23de"
    }
   },
   "source": [
    "#### The $p\\times p$ matrix\n",
    "\n",
    "$$\n",
    "X = n\\bar{C}\n",
    "$$\n",
    "\n",
    "#### has the complex Wishart distribution with $n$ degrees of freedom\n",
    "\n",
    "$$\n",
    "p_{W_c}(X) ={|X|^{(n-p)}\\exp(-{\\rm tr}(\\Sigma^{-1} X)) \\over\n",
    "\\pi^{p(p-1)/2}|\\Sigma|^{n}\\prod_{i=1}^p\\Gamma(n+1-i)},\\quad n \\ge p, \\quad  (p = 1,2,3)\n",
    "$$"
   ]
  },
  {
   "cell_type": "markdown",
   "metadata": {
    "nbpresent": {
     "id": "bafb7198-25e7-49cc-9ed9-547b6a7cbb5d"
    }
   },
   "source": [
    "#### Per-pixel change hypothesis test for two acquisitions:\n",
    "\n",
    "$$\n",
    "H_0: \\Sigma_1 = \\Sigma_2\\quad H_1: \\Sigma_1\\ne \\Sigma_2\n",
    "$$\n",
    "\n",
    "#### Likelihood ratio test statistic:\n",
    "\n",
    "$$\n",
    "{L_0(X_1,X_2,\\hat\\Sigma)\\over L_1(X_1,X_2,\\hat\\Sigma_1,\\hat\\Sigma_2)} = Q \\lt t => Change\n",
    "$$\n",
    "\n",
    "#### We get\n",
    "\n",
    "$$\n",
    "Q = \\left\\{ 2^{2p} \\frac{ |X_1| |X_2|} {|X_1 + X_2|^2} \\right\\}^n\n",
    "$$\n",
    "\n"
   ]
  },
  {
   "cell_type": "markdown",
   "metadata": {
    "collapsed": true,
    "nbpresent": {
     "id": "d7514d8e-51b1-447b-84cc-32fcbb0f51a3"
    }
   },
   "source": [
    "#### For $k$ acquisitions, to test the  null hypothesis $H_0$\n",
    "$$\n",
    "H_0: \\ \\Sigma_1 = \\Sigma_2 = \\cdots = \\Sigma_k\n",
    "$$\n",
    "#### against all alternatives (omnibus test), we use a likelihood ratio  test statistic\n",
    "$$\n",
    "Q = \\left\\{ k^{pk} \\frac{\\prod_{i=1}^k |X_i|}{|X_1+X_2+\\dots +X_k|^{k}} \\right\\}^n\n",
    "$$\n",
    "#### In the limit of a large number of looks, $-2\\log Q$ has a chi-square distribution with $(k-1)p²$ degrees of freedom under the null hypothesis.\n",
    "\n",
    "#### The no-change probability (P-value) is then \n",
    "$$\n",
    "P = {\\rm Prob}(Q < q_{obs}) = {\\rm Prob}(-2\\log Q > -2\\log q_{obs})\n",
    "$$\n",
    "#### or, in Python with $z = -2\\log q_{obs}$,\n",
    "$$\n",
    "{\\tt P =  1- np.chi2.cdf(z,[(k-1)*p**2])}\n",
    "$$\n",
    "\n",
    "#### We would typically reject the null hypothesis when $P < 0.01$\n"
   ]
  },
  {
   "cell_type": "markdown",
   "metadata": {
    "collapsed": true,
    "nbpresent": {
     "id": "7a80b26b-3612-44b9-9acc-b8918ab9f00b"
    }
   },
   "source": [
    "#### Given that\n",
    "$$\n",
    "\\Sigma_1=\\Sigma_2=\\cdots=\\Sigma_{j-1}\n",
    "$$\n",
    "#### then the likelihood ratio test statistic $R_j$ for testing the hypothesis\n",
    "$$\n",
    "H_{0,j}: \\Sigma_j=\\Sigma_1 \\ \\ {\\rm\\bf against} \\ \\ H_{1,j}: \\Sigma_j \\neq \\Sigma_1\n",
    "$$\n",
    "is\n",
    "$$\n",
    "R_j= \\left\\{\\frac{j^{jp}}{(j-1)^{(j-1)p}}\n",
    "\\frac{|X_1+\\cdots+X_{j-1}|^{(j-1)} |X_j|}{|X_1+\\cdots+X_j|^j} \\right\\}^n\n",
    "$$\n",
    "####  The $R_j$ constitute a factorization of $Q$\n",
    "$$\n",
    "Q = \\prod_{j=2}^k R_j\n",
    "$$\n",
    "#### If $H_0$ is true, the $R_j$ are independent.\n",
    "\n",
    "#### Now the no-change P-value is\n",
    "\n",
    "$$\n",
    "P = {\\rm Prob}(R_j < r_{j,obs}) = {\\rm Prob}(-2\\log R_j > -2\\log r_{j,obs})\n",
    "$$"
   ]
  },
  {
   "cell_type": "markdown",
   "metadata": {
    "nbpresent": {
     "id": "a429b5c8-8d02-4c32-a5db-bff1576e06ff"
    }
   },
   "source": [
    "### Algorithm:\n",
    "\n",
    "#### Test $\\Sigma_1 = \\Sigma_2$\n",
    "\n",
    "#### If not rejected, test $\\Sigma_1 = \\Sigma_2 = \\Sigma_3$\n",
    "\n",
    "#### and so on. \n",
    "\n",
    "#### If rejected, say  $\\Sigma_1 = \\Sigma_2 = \\dots = \\Sigma_{j-1} \\ne \\Sigma_j$\n",
    "\n",
    "#### then re-start, testing $\\Sigma_j = \\Sigma_{j+1}$ and continue."
   ]
  },
  {
   "cell_type": "markdown",
   "metadata": {
    "nbpresent": {
     "id": "cc579eb0-9422-4e2c-9663-9c2fc9a86b40"
    }
   },
   "source": [
    "### Implementation in Docker\n",
    "\n",
    "http://mortcanty.github.io/SARDocker/"
   ]
  },
  {
   "cell_type": "code",
   "execution_count": 1,
   "metadata": {
    "collapsed": false,
    "nbpresent": {
     "id": "333e77e3-37aa-46ac-b980-5740f22cb31a"
    }
   },
   "outputs": [
    {
     "name": "stdout",
     "output_type": "stream",
     "text": [
      "sar\r\n"
     ]
    }
   ],
   "source": [
    "!docker start sar\n"
   ]
  },
  {
   "cell_type": "markdown",
   "metadata": {
    "nbpresent": {
     "id": "37e90cee-d06c-45f3-bd47-1484a956b752"
    }
   },
   "source": [
    "http://localhost:433"
   ]
  },
  {
   "cell_type": "code",
   "execution_count": null,
   "metadata": {
    "collapsed": false,
    "nbpresent": {
     "id": "ae30aef3-fa10-4ad5-974f-c151c38d871a"
    }
   },
   "outputs": [],
   "source": [
    "!docker stop sar"
   ]
  },
  {
   "cell_type": "markdown",
   "metadata": {
    "nbpresent": {
     "id": "64c87246-0980-48cb-b672-67cef4db05fd"
    }
   },
   "source": [
    "### Implementation on the GEE Python API\n",
    "\n",
    "https://github.com/mortcanty/earthengine"
   ]
  },
  {
   "cell_type": "code",
   "execution_count": null,
   "metadata": {
    "collapsed": false,
    "nbpresent": {
     "id": "b9fc5c59-f341-43c0-8f36-1ba52a94cbaf"
    }
   },
   "outputs": [],
   "source": [
    "%cd /home/mort/python/earthengine/src\n",
    "!./app.py"
   ]
  },
  {
   "cell_type": "markdown",
   "metadata": {
    "nbpresent": {
     "id": "44f30d6c-aa3b-4d47-a87c-1221db5d1dbb"
    }
   },
   "source": [
    "http://localhost:5000/"
   ]
  },
  {
   "cell_type": "code",
   "execution_count": null,
   "metadata": {
    "collapsed": true,
    "nbpresent": {
     "id": "fdd20e2e-e8a9-4146-9a12-4ac70da7fdab"
    }
   },
   "outputs": [],
   "source": []
  }
 ],
 "metadata": {
  "anaconda-cloud": {},
  "kernelspec": {
   "display_name": "Python [conda root]",
   "language": "python",
   "name": "conda-root-py"
  },
  "language_info": {
   "codemirror_mode": {
    "name": "ipython",
    "version": 2
   },
   "file_extension": ".py",
   "mimetype": "text/x-python",
   "name": "python",
   "nbconvert_exporter": "python",
   "pygments_lexer": "ipython2",
   "version": "2.7.12"
  },
  "nbpresent": {
   "slides": {
    "0ca552ce-7973-411f-966b-d06838fe929f": {
     "id": "0ca552ce-7973-411f-966b-d06838fe929f",
     "prev": "0cb1ed68-5fa9-4b43-9d10-bfd58cda1105",
     "regions": {
      "18cc23fa-2e09-4795-b4f8-49de0c322fee": {
       "attrs": {
        "height": 0.8,
        "width": 0.8,
        "x": 0.1,
        "y": 0.1
       },
       "content": {
        "cell": "7a80b26b-3612-44b9-9acc-b8918ab9f00b",
        "part": "whole"
       },
       "id": "18cc23fa-2e09-4795-b4f8-49de0c322fee"
      }
     }
    },
    "0cb1ed68-5fa9-4b43-9d10-bfd58cda1105": {
     "id": "0cb1ed68-5fa9-4b43-9d10-bfd58cda1105",
     "prev": "f8dd9f66-0d05-4bbf-9799-2632e3398d27",
     "regions": {
      "ef8795c2-fe87-4978-b236-6c7bddaa76c3": {
       "attrs": {
        "height": 0.8,
        "width": 0.8,
        "x": 0.1,
        "y": 0.1
       },
       "content": {
        "cell": "d7514d8e-51b1-447b-84cc-32fcbb0f51a3",
        "part": "whole"
       },
       "id": "ef8795c2-fe87-4978-b236-6c7bddaa76c3"
      }
     }
    },
    "2fe52459-41f1-495b-9535-908e7b773445": {
     "id": "2fe52459-41f1-495b-9535-908e7b773445",
     "prev": "3b87b23d-b07a-495f-a940-8026d3bc6906",
     "regions": {
      "64735275-9db5-4666-b499-d92938bd64ba": {
       "attrs": {
        "height": 0.8,
        "width": 0.8,
        "x": 0.1,
        "y": 0.1
       },
       "content": {
        "cell": "ae30aef3-fa10-4ad5-974f-c151c38d871a",
        "part": "whole"
       },
       "id": "64735275-9db5-4666-b499-d92938bd64ba"
      }
     }
    },
    "338b7184-860e-450c-b490-a76eaa317da2": {
     "id": "338b7184-860e-450c-b490-a76eaa317da2",
     "prev": "f32fecf4-4d34-478c-9f85-c492589505f7",
     "regions": {
      "be783b61-f6ab-408d-82c8-dfc9ac5bc586": {
       "attrs": {
        "height": 0.8,
        "width": 0.8,
        "x": 0.1,
        "y": 0.1
       },
       "content": {
        "cell": "b9fc5c59-f341-43c0-8f36-1ba52a94cbaf",
        "part": "whole"
       },
       "id": "be783b61-f6ab-408d-82c8-dfc9ac5bc586"
      }
     }
    },
    "3b87b23d-b07a-495f-a940-8026d3bc6906": {
     "id": "3b87b23d-b07a-495f-a940-8026d3bc6906",
     "prev": "e96ccd16-5e37-4ce6-b3bb-4f504076bb69",
     "regions": {
      "e71118b1-c52b-4f5e-8b1a-ac484917228c": {
       "attrs": {
        "height": 0.8,
        "width": 0.8,
        "x": 0.1,
        "y": 0.1
       },
       "content": {
        "cell": "37e90cee-d06c-45f3-bd47-1484a956b752",
        "part": "whole"
       },
       "id": "e71118b1-c52b-4f5e-8b1a-ac484917228c"
      }
     }
    },
    "4a042389-1660-4543-9f91-8f86515b5800": {
     "id": "4a042389-1660-4543-9f91-8f86515b5800",
     "prev": "8b09aa1f-c76d-42a9-a2d1-0964887e0b19",
     "regions": {
      "b751f833-c565-45f2-b2f5-edf45bad55d0": {
       "attrs": {
        "height": 0.8,
        "width": 0.8,
        "x": 0.1,
        "y": 0.1
       },
       "content": {
        "cell": "cc579eb0-9422-4e2c-9663-9c2fc9a86b40",
        "part": "whole"
       },
       "id": "b751f833-c565-45f2-b2f5-edf45bad55d0"
      }
     }
    },
    "6480c463-2eaf-416a-a7b4-c907e4b262fe": {
     "id": "6480c463-2eaf-416a-a7b4-c907e4b262fe",
     "prev": null,
     "regions": {
      "6d910d04-3000-4d10-b66f-db9d3a0e329f": {
       "attrs": {
        "height": 0.8,
        "width": 0.8,
        "x": 0.1,
        "y": 0.1
       },
       "content": {
        "cell": "61e34aac-853f-4bb7-aa58-56ac8cd5591f",
        "part": "whole"
       },
       "id": "6d910d04-3000-4d10-b66f-db9d3a0e329f"
      }
     }
    },
    "68f00352-f007-4c41-af98-36e86474627e": {
     "id": "68f00352-f007-4c41-af98-36e86474627e",
     "prev": "70d046d7-0bbb-41dc-8d16-948fa8ad2d05",
     "regions": {
      "20468236-1feb-4d12-8ec7-b546c7e4555f": {
       "attrs": {
        "height": 0.8,
        "width": 0.8,
        "x": 0.1,
        "y": 0.1
       },
       "content": {
        "cell": "724ab1b2-c488-4413-94d4-274773d0cb59",
        "part": "whole"
       },
       "id": "20468236-1feb-4d12-8ec7-b546c7e4555f"
      }
     }
    },
    "70d046d7-0bbb-41dc-8d16-948fa8ad2d05": {
     "id": "70d046d7-0bbb-41dc-8d16-948fa8ad2d05",
     "prev": "6480c463-2eaf-416a-a7b4-c907e4b262fe",
     "regions": {
      "af6603a2-7c06-4179-881f-b3401f991893": {
       "attrs": {
        "height": 0.8,
        "width": 0.8,
        "x": 0.1,
        "y": 0.1
       },
       "content": {
        "cell": "3a42c88d-ab64-4ac1-92d4-da4a4b3620c4",
        "part": "whole"
       },
       "id": "af6603a2-7c06-4179-881f-b3401f991893"
      }
     }
    },
    "8b09aa1f-c76d-42a9-a2d1-0964887e0b19": {
     "id": "8b09aa1f-c76d-42a9-a2d1-0964887e0b19",
     "prev": "0ca552ce-7973-411f-966b-d06838fe929f",
     "regions": {
      "cc08ad16-bf4d-49c2-982e-3cee353c523d": {
       "attrs": {
        "height": 0.8,
        "width": 0.8,
        "x": 0.1,
        "y": 0.1
       },
       "content": {
        "cell": "a429b5c8-8d02-4c32-a5db-bff1576e06ff",
        "part": "whole"
       },
       "id": "cc08ad16-bf4d-49c2-982e-3cee353c523d"
      }
     }
    },
    "c31853a8-9777-46b6-8542-1802541bc43b": {
     "id": "c31853a8-9777-46b6-8542-1802541bc43b",
     "prev": "338b7184-860e-450c-b490-a76eaa317da2",
     "regions": {
      "2e46fed9-b5a8-4631-b5aa-25d8a0ddaa35": {
       "attrs": {
        "height": 0.8,
        "width": 0.8,
        "x": 0.1,
        "y": 0.1
       },
       "content": {
        "cell": "44f30d6c-aa3b-4d47-a87c-1221db5d1dbb",
        "part": "whole"
       },
       "id": "2e46fed9-b5a8-4631-b5aa-25d8a0ddaa35"
      }
     }
    },
    "e01d9579-f65e-42ba-ae08-59ea1bf77ccc": {
     "id": "e01d9579-f65e-42ba-ae08-59ea1bf77ccc",
     "prev": "68f00352-f007-4c41-af98-36e86474627e",
     "regions": {
      "7753d410-755c-4ff9-9826-f52654a6c2e2": {
       "attrs": {
        "height": 0.8,
        "width": 0.8,
        "x": 0.1,
        "y": 0.1
       },
       "content": {
        "cell": "2ffd18a6-9b9c-43be-8b5c-2010243b23de",
        "part": "whole"
       },
       "id": "7753d410-755c-4ff9-9826-f52654a6c2e2"
      }
     }
    },
    "e96ccd16-5e37-4ce6-b3bb-4f504076bb69": {
     "id": "e96ccd16-5e37-4ce6-b3bb-4f504076bb69",
     "prev": "4a042389-1660-4543-9f91-8f86515b5800",
     "regions": {
      "0481e56c-21e0-4cd5-9774-ab801aef491c": {
       "attrs": {
        "height": 0.8,
        "width": 0.8,
        "x": 0.1,
        "y": 0.1
       },
       "content": {
        "cell": "333e77e3-37aa-46ac-b980-5740f22cb31a",
        "part": "whole"
       },
       "id": "0481e56c-21e0-4cd5-9774-ab801aef491c"
      }
     }
    },
    "ec78894b-4074-4d47-a148-1f4aa6cb0f12": {
     "id": "ec78894b-4074-4d47-a148-1f4aa6cb0f12",
     "prev": "c31853a8-9777-46b6-8542-1802541bc43b",
     "regions": {
      "dcc8242e-cc35-45f7-ac91-afc8fe555f6c": {
       "attrs": {
        "height": 0.8,
        "width": 0.8,
        "x": 0.1,
        "y": 0.1
       },
       "content": {
        "cell": "fdd20e2e-e8a9-4146-9a12-4ac70da7fdab",
        "part": "whole"
       },
       "id": "dcc8242e-cc35-45f7-ac91-afc8fe555f6c"
      }
     }
    },
    "f32fecf4-4d34-478c-9f85-c492589505f7": {
     "id": "f32fecf4-4d34-478c-9f85-c492589505f7",
     "prev": "2fe52459-41f1-495b-9535-908e7b773445",
     "regions": {
      "15476cf2-c39b-4580-b441-831ccb81d4db": {
       "attrs": {
        "height": 0.8,
        "width": 0.8,
        "x": 0.1,
        "y": 0.1
       },
       "content": {
        "cell": "64c87246-0980-48cb-b672-67cef4db05fd",
        "part": "whole"
       },
       "id": "15476cf2-c39b-4580-b441-831ccb81d4db"
      }
     }
    },
    "f8dd9f66-0d05-4bbf-9799-2632e3398d27": {
     "id": "f8dd9f66-0d05-4bbf-9799-2632e3398d27",
     "prev": "e01d9579-f65e-42ba-ae08-59ea1bf77ccc",
     "regions": {
      "bad74301-fbb6-40e7-a657-afbf26cde629": {
       "attrs": {
        "height": 0.8,
        "width": 0.8,
        "x": 0.1,
        "y": 0.1
       },
       "content": {
        "cell": "bafb7198-25e7-49cc-9ed9-547b6a7cbb5d",
        "part": "whole"
       },
       "id": "bad74301-fbb6-40e7-a657-afbf26cde629"
      }
     }
    }
   },
   "themes": {
    "default": "eda386ea-532c-40d9-ab67-95018dc61c45",
    "theme": {}
   }
  }
 },
 "nbformat": 4,
 "nbformat_minor": 0
}
