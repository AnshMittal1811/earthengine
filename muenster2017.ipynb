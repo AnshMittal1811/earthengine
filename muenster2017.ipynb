{
 "cells": [
  {
   "cell_type": "markdown",
   "metadata": {
    "nbpresent": {
     "id": "61e34aac-853f-4bb7-aa58-56ac8cd5591f"
    }
   },
   "source": [
    "<center>\n",
    "<h1> Statistical Algorithms for Change Detection in Optical and SAR Imagery: </h1>\n",
    "\n",
    "<h1> Implementations in Python and on the Google Earth Engine </h1>\n",
    "\n",
    "<h2> Mort Canty, Jülich Germany </h2>\n",
    "<h2> Allan A. Nielsen, DTU Denmark   </h2> \n",
    "<h2> </h2>\n",
    "\n",
    "<h2> <em>GI Forum, Institute for Geoinformatics  (ifgi),  </em></h2>\n",
    "<h2> <em>University of Münster, June 13, 2017 </em></h2>\n",
    "</center>\n"
   ]
  },
  {
   "cell_type": "markdown",
   "metadata": {
    "nbpresent": {
     "id": "838d8cee-04a8-4730-aa85-4845728fbe77"
    }
   },
   "source": [
    "# Topics:\n",
    "\n",
    "## Optical/Infrared Imagery\n",
    "\n",
    "### = The IR-MAD Algorithm: iterated canonical correlation analysis\n",
    "\n",
    "### = Automatic relative radiometric normalization\n",
    "\n",
    "## Polarimetric SAR Imagery\n",
    "\n",
    "### = The bitemporal complex Wishart algorithm\n",
    "\n",
    "### = The sequential omnibus algorithm\n",
    "\n",
    "## Python Implementation\n",
    "\n",
    "### = Jupyter/IPython notebooks in Docker containers\n",
    "\n",
    "### = The Python API on the Google Earth Engine\n",
    "\n",
    "## Outlook\n"
   ]
  },
  {
   "cell_type": "markdown",
   "metadata": {
    "nbpresent": {
     "id": "3a42c88d-ab64-4ac1-92d4-da4a4b3620c4"
    }
   },
   "source": [
    "## Polarimetric SAR Images\n",
    "\n",
    "\n",
    "### Scattering matrix\n",
    "\n",
    "$$\n",
    "\\pmatrix{E_h^b \\cr E_v^b}\n",
    "=\\pmatrix{S_{hh} & S_{hv}\\cr S_{vh} & S_{vv}}\\pmatrix{E_h^i \\cr E_v^i}.\n",
    "$$\n",
    "\n",
    "### Vector representation\n",
    "\n",
    "$$\n",
    "s = \\pmatrix{S_{hh}\\cr \\sqrt{2}S_{hv}\\cr S_{vv}},\n",
    "$$\n",
    "\n",
    "### Span image (inner product)\n",
    "\n",
    "$$\n",
    "{\\rm span} = s^\\top s = |S_{hh}|^2 + 2|S_{hv}|^2 + |S_{vv}|^2.\n",
    "$$\n",
    "\n",
    "### Covariance representation (outer product)\n",
    "\n",
    "$$\n",
    "C = s s^\\top = \\pmatrix{ |S_{hh}|^2 & \\sqrt{2}S_{hh}S_{hv}^* & S_{hh}S_{vv}^* \\cr\n",
    "                                     \\sqrt{2}S_{hv}S_{hh}^* & 2|S_{hv}|^2 & \\sqrt{2}S_{hv}S_{vv}^* \\cr\n",
    "                                     S_{vv}S_{hh}^* & \\sqrt{2}S_{vv}S_{hv}^* & |S_{vv}|^2 }.\n",
    "$$\n"
   ]
  },
  {
   "cell_type": "markdown",
   "metadata": {
    "nbpresent": {
     "id": "724ab1b2-c488-4413-94d4-274773d0cb59"
    }
   },
   "source": [
    "### Multi-look image\n",
    "#### quad pol\n",
    "$$\n",
    "\\bar{C}  ={1\\over n}\\sum_{\\nu=1}^n  s(\\nu) s(\\nu)^\\top = \\langle  s s^\\top \\rangle\n",
    " = \\pmatrix{ \\langle |S_{hh}|^2\\rangle & \\langle\\sqrt{2}S_{hh}S_{hv}^*\\rangle & \\langle S_{hh}S_{vv}^*\\rangle \\cr\n",
    "\\langle\\sqrt{2} S_{hv}S_{hh}^*\\rangle & \\langle 2|S_{hv}|^2\\rangle & \\langle\\sqrt{2}S_{hv}S_{vv}^*\\rangle \\cr\n",
    "\\langle S_{vv}S_{hh}^*\\rangle & \\langle\\sqrt{2}S_{vv}S_{hv}^*\\rangle & \\langle |S_{vv}|^2\\rangle }\n",
    "$$\n",
    "#### dual pol\n",
    "$$\n",
    "\\bar{C} = \\pmatrix{ \\langle |S_{hh}|^2\\rangle & \\langle S_{hh}S_{hv}^*\\rangle \\cr\n",
    "\\langle S_{hv}S_{hh}^*\\rangle & \\langle |S_{hv}|^2\\rangle }\n",
    "$$\n",
    "#### single pol\n",
    "$$\n",
    "\\bar{C} = \\langle |S_{hh}|^2\\rangle \\quad \n",
    "$$\n",
    "\n"
   ]
  },
  {
   "cell_type": "markdown",
   "metadata": {
    "collapsed": true,
    "nbpresent": {
     "id": "2ffd18a6-9b9c-43be-8b5c-2010243b23de"
    }
   },
   "source": [
    "#### The matrix\n",
    "$$\n",
    "X = n\\bar{C}\n",
    "$$\n",
    "#### has the complex Wishart distribution\n",
    "$$\n",
    "p_{W_c}(X) ={|X|^{(n-p)}\\exp(-{\\rm tr}(\\Sigma^{-1} X)) \\over\n",
    "\\pi^{p(p-1)/2}|\\Sigma|^{n}\\prod_{i=1}^p\\Gamma(n+1-i)},\\quad n \\ge p,\n",
    "$$"
   ]
  },
  {
   "cell_type": "markdown",
   "metadata": {
    "collapsed": true
   },
   "source": [
    "#### To test the  null hypothesis $H_0$\n",
    "$$\n",
    "H_0: \\ \\Sigma_1 = \\Sigma_2 = \\cdots = \\Sigma_k\n",
    "$$\n",
    "#### against all alternatives (omnibus test), we use a likelihood ratio  test statistic\n",
    "$$\n",
    "Q = \\left\\{ k^{pk} \\frac{\\prod_{i=1}^k |X_i|}{|X_1+X_2+\\dots +X_k|^{k}} \\right\\}^n\n",
    "$$\n",
    "#### In the limit of a large number of looks, $-2\\log Q$ has a chi-square distribution with $(k-1)p²$ degrees of freedom under the null hypothesis.\n",
    "\n",
    "#### The no-change probability (P-value) is then \n",
    "$$\n",
    "P = {\\rm Prob}(Q < q_{obs}) = {\\rm Prob}(-2\\log Q > -2\\log q_{obs}) \n",
    "$$\n",
    "#### so we would typically reject the null hypothesis when $P < 0.01$\n"
   ]
  },
  {
   "cell_type": "code",
   "execution_count": null,
   "metadata": {
    "collapsed": true
   },
   "outputs": [],
   "source": []
  }
 ],
 "metadata": {
  "kernelspec": {
   "display_name": "Python [Root]",
   "language": "python",
   "name": "Python [Root]"
  },
  "language_info": {
   "codemirror_mode": {
    "name": "ipython",
    "version": 2
   },
   "file_extension": ".py",
   "mimetype": "text/x-python",
   "name": "python",
   "nbconvert_exporter": "python",
   "pygments_lexer": "ipython2",
   "version": "2.7.12"
  },
  "nbpresent": {
   "slides": {
    "1ceed0f2-54f7-4449-97f4-67ad5d517253": {
     "id": "1ceed0f2-54f7-4449-97f4-67ad5d517253",
     "prev": null,
     "regions": {
      "6d36a4d8-95b5-49b5-9374-c6ab556cf619": {
       "attrs": {
        "height": 0.8,
        "width": 0.8,
        "x": 0.1,
        "y": 0.1
       },
       "content": {
        "cell": "61e34aac-853f-4bb7-aa58-56ac8cd5591f",
        "part": "whole"
       },
       "id": "6d36a4d8-95b5-49b5-9374-c6ab556cf619"
      }
     }
    },
    "456f5646-0684-4105-9689-8d79249f062b": {
     "id": "456f5646-0684-4105-9689-8d79249f062b",
     "prev": "dba75838-c28f-4c71-9c07-78b6c6df50db",
     "regions": {
      "5f940961-0ae2-4478-be66-26f6b6e3da30": {
       "attrs": {
        "height": 0.8,
        "width": 0.8,
        "x": 0.1,
        "y": 0.1
       },
       "content": {
        "cell": "724ab1b2-c488-4413-94d4-274773d0cb59",
        "part": "whole"
       },
       "id": "5f940961-0ae2-4478-be66-26f6b6e3da30"
      }
     }
    },
    "bdf32853-58f8-43c0-b721-3b666a83d31f": {
     "id": "bdf32853-58f8-43c0-b721-3b666a83d31f",
     "prev": "1ceed0f2-54f7-4449-97f4-67ad5d517253",
     "regions": {
      "d7474b39-bb99-4365-b92a-65013bc17d6f": {
       "attrs": {
        "height": 0.8,
        "width": 0.8,
        "x": 0.1,
        "y": 0.1
       },
       "content": {
        "cell": "838d8cee-04a8-4730-aa85-4845728fbe77",
        "part": "whole"
       },
       "id": "d7474b39-bb99-4365-b92a-65013bc17d6f"
      }
     }
    },
    "be15a523-ba99-4b05-b0c2-d40b0cc7b49e": {
     "id": "be15a523-ba99-4b05-b0c2-d40b0cc7b49e",
     "prev": "456f5646-0684-4105-9689-8d79249f062b",
     "regions": {
      "54cd3158-69c0-45c7-85a3-535cf2d19ad9": {
       "attrs": {
        "height": 0.8,
        "width": 0.8,
        "x": 0.1,
        "y": 0.1
       },
       "content": {
        "cell": "2ffd18a6-9b9c-43be-8b5c-2010243b23de",
        "part": "whole"
       },
       "id": "54cd3158-69c0-45c7-85a3-535cf2d19ad9"
      }
     }
    },
    "d2c0b85b-56ca-4680-9d8d-65f67d970b45": {
     "id": "d2c0b85b-56ca-4680-9d8d-65f67d970b45",
     "prev": "be15a523-ba99-4b05-b0c2-d40b0cc7b49e",
     "regions": {
      "cc95b48c-5482-43e0-9c96-61df2c44a7a4": {
       "attrs": {
        "height": 0.8,
        "width": 0.8,
        "x": 0.1,
        "y": 0.1
       },
       "content": {
        "cell": "600463e0-85ad-404b-a4ab-02b4ad4c7867",
        "part": "whole"
       },
       "id": "cc95b48c-5482-43e0-9c96-61df2c44a7a4"
      }
     }
    },
    "dba75838-c28f-4c71-9c07-78b6c6df50db": {
     "id": "dba75838-c28f-4c71-9c07-78b6c6df50db",
     "prev": "bdf32853-58f8-43c0-b721-3b666a83d31f",
     "regions": {
      "323f6ada-2e71-4485-a72b-3bcaa7e0d568": {
       "attrs": {
        "height": 0.8,
        "width": 0.8,
        "x": 0.1,
        "y": 0.1
       },
       "content": {
        "cell": "3a42c88d-ab64-4ac1-92d4-da4a4b3620c4",
        "part": "whole"
       },
       "id": "323f6ada-2e71-4485-a72b-3bcaa7e0d568"
      }
     }
    }
   },
   "themes": {
    "default": "eda386ea-532c-40d9-ab67-95018dc61c45",
    "theme": {}
   }
  }
 },
 "nbformat": 4,
 "nbformat_minor": 0
}
